{
 "cells": [
  {
   "cell_type": "code",
   "execution_count": 3,
   "metadata": {},
   "outputs": [
    {
     "name": "stdout",
     "output_type": "stream",
     "text": [
      "2018-02-20-Troll-Game-Tupple.md\n",
      "2018-02-20-test.md\n",
      "2018-02-20-test2.md\n",
      "2018-03-05-test-jupyer-notebook.ipynb\n",
      "Untitled.ipynb\n",
      "Untitled.md\n",
      "2018-02-20-Troll-Game-Tupple.md\n",
      "2018-02-20-test.md\n",
      "2018-02-20-test2.md\n",
      "2018-03-05-test-jupyer-notebook.ipynb\n",
      "Untitled.ipynb\n",
      "Untitled.md\n"
     ]
    },
    {
     "name": "stderr",
     "output_type": "stream",
     "text": [
      "Traceback (most recent call last):\n",
      "  File \"/usr/local/Cellar/jupyter/1.0.0_1/libexec/bin/jupyter-nbconvert\", line 6, in <module>\n",
      "    from pkg_resources import load_entry_point\n",
      "  File \"/usr/local/lib/python2.7/site-packages/pkg_resources/__init__.py\", line 3138, in <module>\n",
      "    @_call_aside\n",
      "  File \"/usr/local/lib/python2.7/site-packages/pkg_resources/__init__.py\", line 3122, in _call_aside\n",
      "    f(*args, **kwargs)\n",
      "  File \"/usr/local/lib/python2.7/site-packages/pkg_resources/__init__.py\", line 3151, in _initialize_master_working_set\n",
      "    working_set = WorkingSet._build_master()\n",
      "  File \"/usr/local/lib/python2.7/site-packages/pkg_resources/__init__.py\", line 664, in _build_master\n",
      "    ws.require(__requires__)\n",
      "  File \"/usr/local/lib/python2.7/site-packages/pkg_resources/__init__.py\", line 981, in require\n",
      "    needed = self.resolve(parse_requirements(requirements))\n",
      "  File \"/usr/local/lib/python2.7/site-packages/pkg_resources/__init__.py\", line 867, in resolve\n",
      "    raise DistributionNotFound(req, requirers)\n",
      "pkg_resources.DistributionNotFound: The 'nbconvert==5.3.0' distribution was not found and is required by the application\n"
     ]
    }
   ],
   "source": [
    "%%bash\n",
    "ls\n",
    "jupyter nbconvert --to markdown 2018-03-05-test-jupyer-notebook.ipynb --stdout\n",
    "ls"
   ]
  }
 ],
 "metadata": {
  "kernelspec": {
   "display_name": "Python 2",
   "language": "python",
   "name": "python2"
  },
  "language_info": {
   "codemirror_mode": {
    "name": "ipython",
    "version": 2
   },
   "file_extension": ".py",
   "mimetype": "text/x-python",
   "name": "python",
   "nbconvert_exporter": "python",
   "pygments_lexer": "ipython2",
   "version": "2.7.14"
  }
 },
 "nbformat": 4,
 "nbformat_minor": 2
}
